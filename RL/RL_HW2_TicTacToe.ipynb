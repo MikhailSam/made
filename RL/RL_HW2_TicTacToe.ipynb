{
 "cells": [
  {
   "cell_type": "markdown",
   "metadata": {},
   "source": [
    "# Домашнее задание 2"
   ]
  },
  {
   "cell_type": "markdown",
   "metadata": {},
   "source": [
    "Самохвалов Михаил\n",
    "\n",
    "Группа MADE-DS-32\n",
    "\n",
    "sam2051@yandex.ru"
   ]
  },
  {
   "cell_type": "markdown",
   "metadata": {},
   "source": [
    "В коде, прилагающемся к последней лекции про обучение с подкреплением, реализован Environment для крестиков-ноликов, в котором можно при инициализации указывать разные размеры доски и условия победы, а также функции для рисования, в том числе с указанием оценки различных действий. С этим окружением все задания и связаны.\n"
   ]
  },
  {
   "cell_type": "code",
   "execution_count": 1,
   "metadata": {},
   "outputs": [],
   "source": [
    "import gym\n",
    "import math\n",
    "import random\n",
    "\n",
    "import matplotlib.pyplot as plt\n",
    "import numpy as np\n",
    "\n",
    "from collections import defaultdict\n",
    "from collections import namedtuple\n",
    "from tqdm.notebook import tqdm\n",
    "from itertools import count\n",
    "from PIL import Image\n",
    "\n",
    "import torch\n",
    "import torch.nn as nn\n",
    "import torch.optim as optim\n",
    "import torch.nn.functional as F\n",
    "import torchvision.transforms as T"
   ]
  },
  {
   "cell_type": "code",
   "execution_count": 11,
   "metadata": {},
   "outputs": [],
   "source": [
    "N_ROWS, N_COLS, N_WIN = 3, 3, 3"
   ]
  },
  {
   "cell_type": "code",
   "execution_count": 12,
   "metadata": {},
   "outputs": [],
   "source": [
    "class TicTacToe(gym.Env):\n",
    "    def __init__(self, n_rows=N_ROWS, n_cols=N_COLS, n_win=N_WIN):\n",
    "        self.n_rows = n_rows\n",
    "        self.n_cols = n_cols\n",
    "        self.n_win = n_win\n",
    "\n",
    "        self.board = np.zeros((self.n_rows, self.n_cols), dtype=int)\n",
    "        self.gameOver = False\n",
    "        self.boardHash = None\n",
    "        # ход первого игрока\n",
    "        self.curTurn = 1\n",
    "        self.emptySpaces = None\n",
    "        \n",
    "        self.reset()\n",
    "\n",
    "    def getEmptySpaces(self):\n",
    "        if self.emptySpaces is None:\n",
    "            res = np.where(self.board == 0)\n",
    "            self.emptySpaces = np.array([ (i, j) for i,j in zip(res[0], res[1]) ])\n",
    "        return self.emptySpaces\n",
    "\n",
    "    def makeMove(self, player, i, j):\n",
    "        self.board[i, j] = player\n",
    "        self.emptySpaces = None\n",
    "        self.boardHash = None\n",
    "\n",
    "    def getHash(self):\n",
    "        if self.boardHash is None:\n",
    "            self.boardHash = ''.join(['%s' % (x+1) for x in self.board.reshape(self.n_rows * self.n_cols)])\n",
    "        return self.boardHash\n",
    "\n",
    "    def isTerminal(self):\n",
    "        # проверим, не закончилась ли игра\n",
    "        cur_marks, cur_p = np.where(self.board == self.curTurn), self.curTurn\n",
    "        for i,j in zip(cur_marks[0], cur_marks[1]):\n",
    "#             print((i,j))\n",
    "            win = False\n",
    "            if i <= self.n_rows - self.n_win:\n",
    "                if np.all(self.board[i:i+self.n_win, j] == cur_p):\n",
    "                    win = True\n",
    "            if not win:\n",
    "                if j <= self.n_cols - self.n_win:\n",
    "                    if np.all(self.board[i,j:j+self.n_win] == cur_p):\n",
    "                        win = True\n",
    "            if not win:\n",
    "                if i <= self.n_rows - self.n_win and j <= self.n_cols - self.n_win:\n",
    "                    if np.all(np.array([ self.board[i+k,j+k] == cur_p for k in range(self.n_win) ])):\n",
    "                        win = True\n",
    "            if not win:\n",
    "                if i <= self.n_rows - self.n_win and j >= self.n_win-1:\n",
    "                    if np.all(np.array([ self.board[i+k,j-k] == cur_p for k in range(self.n_win) ])):\n",
    "                        win = True\n",
    "            if win:\n",
    "                self.gameOver = True\n",
    "                return self.curTurn\n",
    "\n",
    "        if len(self.getEmptySpaces()) == 0:\n",
    "            self.gameOver = True\n",
    "            return 0\n",
    "\n",
    "        self.gameOver = False\n",
    "        return None\n",
    "\n",
    "    def printBoard(self):\n",
    "        for i in range(0, self.n_rows):\n",
    "            print('----'*(self.n_cols)+'-')\n",
    "            out = '| '\n",
    "            for j in range(0, self.n_cols):\n",
    "                if self.board[i, j] == 1:\n",
    "                    token = 'x'\n",
    "                if self.board[i, j] == -1:\n",
    "                    token = 'o'\n",
    "                if self.board[i, j] == 0:\n",
    "                    token = ' '\n",
    "                out += token + ' | '\n",
    "            print(out)\n",
    "        print('----'*(self.n_cols)+'-')\n",
    "\n",
    "    def getState(self):\n",
    "        return (self.getHash(), self.getEmptySpaces(), self.curTurn)\n",
    "\n",
    "    def action_from_int(self, action_int):\n",
    "        return ( int(action_int / self.n_cols), int(action_int % self.n_cols))\n",
    "\n",
    "    def int_from_action(self, action):\n",
    "        return action[0] * self.n_cols + action[1]\n",
    "    \n",
    "    def step(self, action):\n",
    "        if self.board[action[0], action[1]] != 0:\n",
    "            return self.getState(), -10, True, {}\n",
    "        self.makeMove(self.curTurn, action[0], action[1])\n",
    "        reward = self.isTerminal()\n",
    "        self.curTurn = -self.curTurn\n",
    "        return self.getState(), 0 if reward is None else reward, reward is not None, {}\n",
    "\n",
    "    def reset(self):\n",
    "        self.board = np.zeros((self.n_rows, self.n_cols), dtype=int)\n",
    "        self.boardHash = None\n",
    "        self.gameOver = False\n",
    "        self.emptySpaces = None\n",
    "        self.curTurn = 1"
   ]
  },
  {
   "cell_type": "markdown",
   "metadata": {},
   "source": [
    "# Часть первая: крестики-нолики при помощи Q-обучения"
   ]
  },
  {
   "cell_type": "markdown",
   "metadata": {},
   "source": [
    "1. Реализуйте обычное (табличное) Q-обучение. Обучите стратегии крестиков и ноликов для доски 3х3.\n",
    "2. Попробуйте обучить стратегии крестиков и ноликов для доски 4х4 и/или 5х5.\n",
    "\n",
    "**Disclaimer:** начиная с пункта 2, задания для досок размера больше 4х4 могут потребовать большого терпения или более сложных вычислительных реализаций (например, параллелизации). Не хочу в этом задании непременно требовать ни того ни другого, так что если не будет получаться доучить до победных стратегий, не страшно -- но покажите, что со временем что-то всё-таки улучшается."
   ]
  },
  {
   "cell_type": "markdown",
   "metadata": {},
   "source": [
    "## 1. Реализуйте обычное (табличное) Q-обучение. Обучите стратегии крестиков и ноликов для доски 3х3."
   ]
  },
  {
   "cell_type": "code",
   "execution_count": 5,
   "metadata": {},
   "outputs": [],
   "source": [
    "# Action - i,j клетки\n",
    "# State: \n",
    "#     1 - empty\n",
    "#     0 - O\n",
    "#     2 - X\n",
    "# Turn: 1 -> X, -1 -> O"
   ]
  },
  {
   "cell_type": "code",
   "execution_count": 4,
   "metadata": {},
   "outputs": [],
   "source": [
    "class Strategy:\n",
    "    \n",
    "    def __init__(self):\n",
    "        pass\n",
    "    \n",
    "    def get_action(self):\n",
    "        pass\n",
    "    \n",
    "    def update(self):\n",
    "        pass\n",
    "    \n",
    "    def reset_state(self):\n",
    "        pass\n",
    "    \n",
    "    \n",
    "class RandomStrategy(Strategy):\n",
    "    \n",
    "    def __init__(self):\n",
    "        pass\n",
    "    \n",
    "    def get_action(self, state, empty_spaces):\n",
    "        return np.random.randint(len(empty_spaces))\n",
    "    \n",
    "    def update(self, new_state, reward):\n",
    "        pass\n",
    "    \n",
    "    \n",
    "class QStrategy(Strategy):\n",
    "    def __init__(self, state, alpha=0.05, gamma=1.0, epsilon=0.1):\n",
    "        self.alpha = alpha\n",
    "        self.gamma = gamma\n",
    "        self.epsilon = epsilon\n",
    "        \n",
    "        self.Q = {} # defaultdict(lambda: np.zeros(len(state)))\n",
    "        self.state = None\n",
    "        self.act_idx = None\n",
    "        \n",
    "    def get_action(self, state, empty_spaces):\n",
    "        \"\"\"Return action index\"\"\"\n",
    "        if state in self.Q and np.random.random() > self.epsilon:\n",
    "#             print('  first')\n",
    "            return np.argmax(self.Q[state])\n",
    "        else:\n",
    "#             print('  second')\n",
    "            if state not in self.Q:\n",
    "                self.Q[state] = np.zeros(len(empty_spaces))\n",
    "            return np.random.randint(len(empty_spaces))\n",
    "            \n",
    "    \n",
    "    def update(self, new_state, reward):\n",
    "#         print('new_state',new_state)\n",
    "#         print('  prev state',self.state)\n",
    "#         print('  prev_action', self.act_idx)\n",
    "#         print('    ',self.Q)\n",
    "        if self.state:\n",
    "            if new_state in self.Q:\n",
    "                tmp = self.gamma * np.max(self.Q[new_state])\n",
    "            else:\n",
    "                tmp = 0\n",
    "            \n",
    "#             print('  gamma', tmp)\n",
    "            self.Q[self.state][self.act_idx] = self.Q[self.state][self.act_idx] + \\\n",
    "                self.alpha * (reward + tmp - self.Q[self.state][self.act_idx])\n",
    "#             print('  NEW VALUE', self.Q[self.state][self.act_idx])\n",
    "    \n",
    "    def reset_state(self):\n",
    "        self.state = None\n",
    "        self.act_idx = None"
   ]
  },
  {
   "cell_type": "code",
   "execution_count": 86,
   "metadata": {},
   "outputs": [],
   "source": [
    "def Q_testing_episode(env, agent1, agent2, random_agent):\n",
    "    env.reset()\n",
    "    state, empty_spaces, turn = env.getState()\n",
    "    reward = 0\n",
    "    done = False\n",
    "    \n",
    "    while not done:\n",
    "        if turn == 1:\n",
    "            if random_agent == 1 and state in agent1.Q:\n",
    "                action_idx = np.argmax(agent1.Q[state])\n",
    "            else:\n",
    "                action_idx = np.random.randint(len(empty_spaces))\n",
    "        elif turn == -1:\n",
    "            if random_agent == 0 and state in agent2.Q:\n",
    "                action_idx = np.argmax(agent2.Q[state])\n",
    "            else:\n",
    "                action_idx = np.random.randint(len(empty_spaces))\n",
    "        observation, reward, done, _ = env.step(empty_spaces[action_idx])\n",
    "        state, empty_spaces, turn = observation\n",
    "#     print('   ', reward)\n",
    "    return reward\n",
    "\n",
    "\n",
    "def Q_testing(env, agent1, agent2, games=500):\n",
    "    reward_X = 0\n",
    "    reward_O = 0\n",
    "    for i in range(games):\n",
    "        reward_X += Q_testing_episode(env, agent1, agent2, random_agent=1)\n",
    "    for i in range(games):\n",
    "        reward_O += Q_testing_episode(env, agent1, agent2, random_agent=0)\n",
    "#     print(reward_X)\n",
    "#     print(reward_O)\n",
    "    return reward_X / games, -reward_O / games\n",
    "\n",
    "def Q_learning_episode(env, agent1, agent2, train=True):\n",
    "    env.reset()\n",
    "    state, empty_spaces, turn = env.getState()\n",
    "    reward = 0\n",
    "    done = False\n",
    "    \n",
    "    agent1.reset_state()\n",
    "    agent2.reset_state()\n",
    "\n",
    "    while not done:\n",
    "        if turn == 1:\n",
    "#             print('*'*40)\n",
    "#             print('TURN X')\n",
    "#             print('state',state)\n",
    "            action_idx = agent1.get_action(state, empty_spaces)\n",
    "#             print('action',action_idx)\n",
    "#             print('empty',empty_spaces)\n",
    "            observation, reward, done, _ = env.step(empty_spaces[action_idx])\n",
    "            new_state = observation[0]\n",
    "            agent2.update(new_state, -reward)\n",
    "            if reward == 1:\n",
    "                agent1.Q[state][action_idx] = reward\n",
    "            agent1.state = state\n",
    "            agent1.act_idx = action_idx\n",
    "            \n",
    "        elif turn == -1:\n",
    "#             print('*'*40)\n",
    "#             print('TURN O')\n",
    "#             print('state',state)\n",
    "            action_idx = agent2.get_action(state, empty_spaces)\n",
    "#             print('action',action_idx)\n",
    "#             print('empty',empty_spaces)\n",
    "            observation, reward, done, _ = env.step(empty_spaces[action_idx])\n",
    "            new_state = observation[0]\n",
    "            agent1.update(new_state, reward)\n",
    "            if reward == -1:\n",
    "                agent2.Q[state][action_idx] = -reward\n",
    "            agent2.state = state\n",
    "            agent2.act_idx = action_idx\n",
    "        state, empty_spaces, turn = observation\n",
    "    return reward\n",
    "\n",
    "\n",
    "def Q_training(env, agent1, agent2, episodes=10000, eval_step=1000):\n",
    "    history_X = []\n",
    "    history_O = []\n",
    "    steps = []\n",
    "    \n",
    "#     random_agent = RandomStrategy()\n",
    "    for i in tqdm(range(episodes)):\n",
    "        Q_learning_episode(env, agent1, agent2)\n",
    "            \n",
    "        if i % eval_step == 0:\n",
    "            res1, res2 = Q_testing(env, agent1, agent2)\n",
    "            history_X.append(res1)\n",
    "            history_O.append(res2)\n",
    "            steps.append(i)\n",
    "            \n",
    "    return steps, history_X, history_O\n",
    "            \n"
   ]
  },
  {
   "cell_type": "code",
   "execution_count": 91,
   "metadata": {},
   "outputs": [
    {
     "data": {
      "application/vnd.jupyter.widget-view+json": {
       "model_id": "88c4cf3e994347a9b6c79729d096d542",
       "version_major": 2,
       "version_minor": 0
      },
      "text/plain": [
       "HBox(children=(FloatProgress(value=0.0, max=100000.0), HTML(value='')))"
      ]
     },
     "metadata": {},
     "output_type": "display_data"
    },
    {
     "name": "stdout",
     "output_type": "stream",
     "text": [
      "\n"
     ]
    },
    {
     "data": {
      "image/png": "[encoded data removed]",
      "text/plain": [
       "<Figure size 1152x648 with 1 Axes>"
      ]
     },
     "metadata": {
      "needs_background": "light"
     },
     "output_type": "display_data"
    }
   ],
   "source": [
    "env = TicTacToe(n_rows=3, n_cols=3, n_win=3)\n",
    "env.reset()\n",
    "\n",
    "agent1 = QStrategy(env.getState()[0], alpha=0.01, epsilon=0.4)\n",
    "agent2 = QStrategy(env.getState()[0], alpha=0.01, epsilon=0.4)\n",
    "    \n",
    "steps, history_X, history_O = Q_training(env, agent1, agent2, episodes=100_000, eval_step=500)\n",
    "\n",
    "plt.figure(figsize=(16,9))\n",
    "plt.plot(steps, history_X, label='X')\n",
    "plt.plot(steps, history_O, label='O')\n",
    "plt.xlabel(\"Games\")\n",
    "plt.ylabel(\"Win percentage\")\n",
    "plt.title(\"3x3 BOARD RESULTS\")\n",
    "plt.grid()\n",
    "plt.legend()\n",
    "plt.ylim((0,1.0))\n",
    "plt.show()\n"
   ]
  },
  {
   "cell_type": "markdown",
   "metadata": {
    "scrolled": true
   },
   "source": [
    "## 2. Попробуйте обучить стратегии крестиков и ноликов для доски 4х4 и/или 5х5."
   ]
  },
  {
   "cell_type": "code",
   "execution_count": 99,
   "metadata": {},
   "outputs": [
    {
     "data": {
      "application/vnd.jupyter.widget-view+json": {
       "model_id": "00d60223832c40208ee8ea7c297b585a",
       "version_major": 2,
       "version_minor": 0
      },
      "text/plain": [
       "HBox(children=(FloatProgress(value=0.0, max=1000000.0), HTML(value='')))"
      ]
     },
     "metadata": {},
     "output_type": "display_data"
    },
    {
     "name": "stdout",
     "output_type": "stream",
     "text": [
      "\n"
     ]
    },
    {
     "data": {
      "image/png": "[encoded data removed]",
      "text/plain": [
       "<Figure size 432x288 with 1 Axes>"
      ]
     },
     "metadata": {
      "needs_background": "light"
     },
     "output_type": "display_data"
    }
   ],
   "source": [
    "env = TicTacToe(n_rows=4, n_cols=4, n_win=4)\n",
    "env.reset()\n",
    "\n",
    "agent1 = QStrategy(env.getState()[0], alpha=0.01, epsilon=0.4)\n",
    "agent2 = QStrategy(env.getState()[0], alpha=0.01, epsilon=0.4)\n",
    "    \n",
    "steps, history_X, history_O = Q_training(env, agent1, agent2, episodes=1_000_000, eval_step=500)\n",
    "\n",
    "plt.plot(steps, history_X, label='X')\n",
    "plt.plot(steps, history_O, label='O')\n",
    "plt.xlabel(\"Games\")\n",
    "plt.ylabel(\"Win percentage\")\n",
    "plt.title(\"Total results\")\n",
    "plt.grid()\n",
    "plt.legend()\n",
    "plt.ylim((0,1.0))\n",
    "plt.show()"
   ]
  },
  {
   "cell_type": "markdown",
   "metadata": {},
   "source": [
    "**Выводы:**\n",
    "1. Очевидно, играть крестиками проще, чем ноликами.В теории на поле 3х3 наилучший результат (плато на графике) также может достигнуть более высокого значения - выигрывать или сводить к ничьей можно всегда, если рандом первым ходом не занял центральную клетку, но даже в таком случае шансы остаются\n",
    "2. При увеличении поля сложность задачи растет (степенная сложность?) так сильно, что для больших полей учить модель оч долго. Но в теории опять же получить результаты против рандомной стратегии можно даже лучше, чем в поле 3х3 - случайным образом наставить 4 в ряд сложнее, чем делать это целенаправленно\n",
    "3. В целом, модели учатся, но поле 5х5 не стал пробовать :)"
   ]
  },
  {
   "cell_type": "markdown",
   "metadata": {},
   "source": [
    "# Часть вторая: добавим нейронных сетей"
   ]
  },
  {
   "cell_type": "markdown",
   "metadata": {},
   "source": [
    "Реализуйте нейронную сеть для метода DQN на доске для крестиков-ноликов. Не буду ограничивать фантазию, но кажется, что свёртки 3х3 здесь должны неплохо работать (в том числе обобщаться на доски размера побольше)."
   ]
  },
  {
   "cell_type": "markdown",
   "metadata": {},
   "source": [
    "## 3. Реализуйте DQN с нейронной сетью, обучите стратегии крестиков и ноликов. Замечание: скорее всего, experience replay потребуется сразу же."
   ]
  },
  {
   "cell_type": "code",
   "execution_count": 2,
   "metadata": {},
   "outputs": [
    {
     "data": {
      "text/plain": [
       "device(type='cuda')"
      ]
     },
     "execution_count": 2,
     "metadata": {},
     "output_type": "execute_result"
    }
   ],
   "source": [
    "device = torch.device(\"cuda\" if torch.cuda.is_available() else \"cpu\")\n",
    "device"
   ]
  },
  {
   "cell_type": "code",
   "execution_count": 3,
   "metadata": {},
   "outputs": [],
   "source": [
    "\n",
    "class ReplayMemory(object):\n",
    "\n",
    "    def __init__(self, capacity):\n",
    "        self.capacity = capacity\n",
    "        self.memory = []\n",
    "        self.position = 0\n",
    "\n",
    "    def push(self, extuple):\n",
    "        \"\"\"Saves a transition.\"\"\"\n",
    "        if len(self.memory) < self.capacity:\n",
    "            self.memory.append(None)\n",
    "        self.memory[self.position] = extuple\n",
    "        self.position = (self.position + 1) % self.capacity\n",
    "\n",
    "    def sample(self, batch_size):\n",
    "        return random.sample(self.memory, batch_size)\n",
    "\n",
    "    def __len__(self):\n",
    "        return len(self.memory)"
   ]
  },
  {
   "cell_type": "code",
   "execution_count": 4,
   "metadata": {},
   "outputs": [],
   "source": [
    "class DQN(nn.Module):\n",
    "\n",
    "    def __init__(self, in_size, hidden_size, out_size):\n",
    "        super().__init__()\n",
    "        self.conv1 = nn.Conv2d(in_size, hidden_size, kernel_size=3, padding=1)\n",
    "        self.bn1 = nn.BatchNorm2d(hidden_size)\n",
    "        self.conv2 = nn.Conv2d(hidden_size, hidden_size, kernel_size=3, padding=1)\n",
    "        self.bn2 = nn.BatchNorm2d(hidden_size)\n",
    "\n",
    "        self.fc1 = nn.Linear(hidden_size*out_size, hidden_size)\n",
    "        self.head = nn.Linear(hidden_size, out_size)\n",
    "\n",
    "    # Called with either one element to determine next action, or a batch\n",
    "    # during optimization. Returns tensor([[left0exp,right0exp]...]).\n",
    "    def forward(self, x):\n",
    "\n",
    "        x = F.relu(self.bn1(self.conv1(x)))\n",
    "        x = F.relu(self.bn2(self.conv2(x)))\n",
    "\n",
    "#         print(x.shape)\n",
    "        x = x.view(x.size(0), -1)\n",
    "        x = F.relu(self.fc1(x))\n",
    "        x = self.head(x)\n",
    "        return x"
   ]
  },
  {
   "cell_type": "code",
   "execution_count": 5,
   "metadata": {},
   "outputs": [],
   "source": [
    "# Utils\n",
    "def board2np(board):\n",
    "    return np.array([\n",
    "        (board == 1).astype(float), \n",
    "        (board == -1).astype(float), \n",
    "        (board == 0).astype(float)\n",
    "    ])\n",
    "        \n",
    "def avail_actions(state):\n",
    "    string_array = np.array(list(state))\n",
    "    return np.where(string_array == '1')[0]\n",
    "    "
   ]
  },
  {
   "cell_type": "code",
   "execution_count": 6,
   "metadata": {},
   "outputs": [],
   "source": [
    "class DQN_satrategy:\n",
    "    def __init__(self, model, optimizer, memory_capacity=10000, epsilon=0.5, gamma=1.0):\n",
    "        self.epsilon = epsilon\n",
    "        self.gamma = gamma\n",
    "        \n",
    "        self.state = None\n",
    "        self.action = None\n",
    "        self.memory = ReplayMemory(capacity=memory_capacity)\n",
    "        \n",
    "        self.model = model\n",
    "        self.optimizer = optimizer\n",
    "    \n",
    "    def update(self, next_state, action, reward):\n",
    "        next_state = board2np(next_state)\n",
    "        if self.state is not None:\n",
    "            self.memory.push((self.state, next_state, self.action, reward))\n",
    "        self.state = next_state\n",
    "        self.action = action\n",
    "    \n",
    "    def get_action_idx(self, board):\n",
    "        self.model.eval()\n",
    "        board = board2np(board)\n",
    "        board = torch.Tensor([board])\n",
    "        action_idx = self.model(board).detach().max(1)[1][0].item()\n",
    "        return action_idx\n",
    "        \n",
    "    def get_action(self, state, game_hash):\n",
    "        if np.random.random() > self.epsilon:\n",
    "            action = self.get_action_idx(state)\n",
    "        else:\n",
    "            action = random.choice(avail_actions(game_hash))\n",
    "#             np.random.randint(len(avail_actions(game_hash)))\n",
    "        return action\n",
    "        \n",
    "    def reset_state(self):\n",
    "        self.state = None\n",
    "        self.action = None\n"
   ]
  },
  {
   "cell_type": "code",
   "execution_count": null,
   "metadata": {},
   "outputs": [],
   "source": []
  },
  {
   "cell_type": "code",
   "execution_count": 7,
   "metadata": {},
   "outputs": [],
   "source": [
    "# Testing\n",
    "def testing_episode(env, agent1, agent2, random_agent):\n",
    "    env.reset()\n",
    "    state, empty_spaces, turn = env.getState()\n",
    "    board = env.board\n",
    "    done = False\n",
    "    result = [0, 0]\n",
    "    player = 1\n",
    "    \n",
    "    while not done:\n",
    "        if turn == 1:\n",
    "            if random_agent == 1:\n",
    "                action =  agent1.get_action_idx(board)\n",
    "            else:\n",
    "                action = random.choice(avail_actions(state))\n",
    "        elif turn == -1:\n",
    "            if random_agent == 0:\n",
    "                action =  agent2.get_action_idx(board)\n",
    "            else:\n",
    "                action = random.choice(avail_actions(state))\n",
    "        action_tuple = env.action_from_int(action)\n",
    "        (state, empty_spaces, turn), reward, done, _ = env.step(action_tuple)\n",
    "        board = env.board\n",
    "                    \n",
    "    if reward == 1 and random_agent == 1:\n",
    "        return 1\n",
    "    elif reward == -1 and random_agent == 0:\n",
    "        return 1\n",
    "    else:\n",
    "        return 0\n",
    "#     return reward\n",
    "        \n",
    "def testing(env, agent1, agent2, games=1000):\n",
    "    agent1.model.eval()\n",
    "    agent2.model.eval()\n",
    "    rewards1 = []\n",
    "    rewards2 = []\n",
    "    for i in range(games):\n",
    "        r = testing_episode(env, agent1, agent2, random_agent=1)\n",
    "        rewards1.append(r)\n",
    "    for i in range(games):\n",
    "        r = testing_episode(env, agent1, agent2, random_agent=0)\n",
    "        rewards2.append(r)\n",
    "    r1 = np.mean(rewards1)\n",
    "    r2 = np.mean(rewards2)\n",
    "    return r1, r2"
   ]
  },
  {
   "cell_type": "code",
   "execution_count": null,
   "metadata": {},
   "outputs": [],
   "source": []
  },
  {
   "cell_type": "code",
   "execution_count": 8,
   "metadata": {},
   "outputs": [],
   "source": [
    "# Training\n",
    "\n",
    "def train_batch(agent, criterion, batch_size=128):\n",
    "    if len(agent.memory) < batch_size:\n",
    "#         print('memory')\n",
    "        return\n",
    "    \n",
    "    states, next_states, actions, rewards = list(zip(*agent.memory.sample(batch_size)))\n",
    "    \n",
    "    batch_state = torch.FloatTensor(states)\n",
    "    batch_next_state = torch.FloatTensor(next_states)\n",
    "    batch_actions = torch.LongTensor(actions)\n",
    "    batch_reward = torch.FloatTensor(rewards) / 11.\n",
    "    \n",
    "    agent.model.train()\n",
    "    Q = agent.model(batch_state).gather(1, batch_actions.view(-1, 1)).flatten()\n",
    "    Qmax = agent.model(batch_next_state).detach().max(dim=1)[0]\n",
    "    Qnext = batch_reward + (agent.gamma * Qmax)\n",
    "    \n",
    "    loss = criterion(Q, Qnext)\n",
    "\n",
    "    loss.backward()\n",
    "    agent.optimizer.step()\n",
    "    agent.optimizer.zero_grad()\n",
    "    return loss\n",
    "\n",
    "\n",
    "def train_episode(env, agent1, agent2):\n",
    "    env.reset()\n",
    "    \n",
    "    model1 = agent1.model\n",
    "    model2 = agent2.model\n",
    "    \n",
    "    model1.eval()\n",
    "    model2.eval()\n",
    "    state, empty_spaces, turn = env.getState()\n",
    "    board = env.board.copy()\n",
    "    done = False\n",
    "    \n",
    "    agent1.reset_state()\n",
    "    agent2.reset_state()\n",
    "    agents = (agent1, agent2)\n",
    "    models = (model1, model2)\n",
    "    current_idx = 0\n",
    "    \n",
    "    while not done:\n",
    "        cur_agent = agents[current_idx]\n",
    "        model = models[current_idx]\n",
    "        action = cur_agent.get_action(board, state)\n",
    "        cur_agent.update(board, action, 0)\n",
    "        current_idx = 1 - current_idx\n",
    "        (state, empty_spaces, turn), reward , done, _ = env.step(env.action_from_int(action))\n",
    "        board = env.board.copy()\n",
    "        \n",
    "    if reward == -10:\n",
    "        cur_agent.update(board, action, reward)\n",
    "    else:\n",
    "        agents[0].update(board, action, reward)\n",
    "        agents[1].update(board, action, -reward)\n",
    "        \n",
    "\n",
    "def training(env, agent1, agent2, criterion, episodes=10000, batch_size=128, eval_step=100):\n",
    "    history_X = []\n",
    "    history_O = []\n",
    "    steps = []\n",
    "\n",
    "    for i in tqdm(range(episodes)):\n",
    "        train_episode(env, agent1, agent2)\n",
    "        \n",
    "        train_batch(agent1, criterion, batch_size)\n",
    "        train_batch(agent2, criterion, batch_size)\n",
    "\n",
    "        if i % eval_step == 0:\n",
    "            res1, res2 = testing(env, agent1, agent2, games=200)\n",
    "            steps.append(i)\n",
    "            history_X.append(res1)\n",
    "            history_O.append(res2)\n",
    "            \n",
    "    return steps, history_X, history_O"
   ]
  },
  {
   "cell_type": "code",
   "execution_count": 19,
   "metadata": {},
   "outputs": [],
   "source": [
    "LR = 1e-6\n",
    "criterion = F.l1_loss\n",
    "\n",
    "model1 = DQN(3,128,9)\n",
    "optimizer1 = optim.Adam(model1.parameters(), lr=LR)\n",
    "agent1 = DQN_satrategy(model1, optimizer1, epsilon=0.5)\n",
    "\n",
    "model2 = DQN(3,128,9)\n",
    "optimizer2 = optim.Adam(model2.parameters(), lr=LR)\n",
    "agent2 = DQN_satrategy(model2, optimizer2, epsilon=0.5)"
   ]
  },
  {
   "cell_type": "code",
   "execution_count": 20,
   "metadata": {},
   "outputs": [
    {
     "data": {
      "application/vnd.jupyter.widget-view+json": {
       "model_id": "51e367d90d7d4e9a8c9de264cdcfba4f",
       "version_major": 2,
       "version_minor": 0
      },
      "text/plain": [
       "HBox(children=(FloatProgress(value=0.0, max=10000.0), HTML(value='')))"
      ]
     },
     "metadata": {},
     "output_type": "display_data"
    },
    {
     "name": "stdout",
     "output_type": "stream",
     "text": [
      "\n"
     ]
    }
   ],
   "source": [
    "env = TicTacToe(n_rows=3, n_cols=3, n_win=3)\n",
    "steps, result_X, result_O = training(\n",
    "    env, \n",
    "    agent1, \n",
    "    agent2, \n",
    "    criterion,\n",
    "    episodes=10000, \n",
    "    batch_size=256,\n",
    ")"
   ]
  },
  {
   "cell_type": "code",
   "execution_count": 21,
   "metadata": {},
   "outputs": [
    {
     "data": {
      "image/png": "[encoded data removed]",
      "text/plain": [
       "<Figure size 864x432 with 1 Axes>"
      ]
     },
     "metadata": {
      "needs_background": "light"
     },
     "output_type": "display_data"
    }
   ],
   "source": [
    "plt.figure(figsize=(12, 6))\n",
    "plt.plot(steps, result_X, label='X')\n",
    "plt.plot(steps, result_O, label='O')\n",
    "plt.xlabel(\"Games\")\n",
    "plt.ylabel(\"Win percentage\")\n",
    "plt.title(\"3x3 BOARD RESULTS\")\n",
    "plt.grid(True)\n",
    "plt.legend()\n",
    "# plt.ylim((0,1.0))\n",
    "plt.show()"
   ]
  },
  {
   "cell_type": "markdown",
   "metadata": {},
   "source": [
    "### Попробуем поле 4х4"
   ]
  },
  {
   "cell_type": "code",
   "execution_count": null,
   "metadata": {},
   "outputs": [
    {
     "data": {
      "application/vnd.jupyter.widget-view+json": {
       "model_id": "b816ad7c924342dfab0aa3f60c3a696b",
       "version_major": 2,
       "version_minor": 0
      },
      "text/plain": [
       "HBox(children=(FloatProgress(value=0.0, max=5000.0), HTML(value='')))"
      ]
     },
     "metadata": {},
     "output_type": "display_data"
    }
   ],
   "source": [
    "LR = 1e-6\n",
    "criterion = F.l1_loss\n",
    "\n",
    "model1 = DQN(3, 128, 16)\n",
    "optimizer1 = optim.Adam(model1.parameters(), lr=LR)\n",
    "agent1 = DQN_satrategy(model1, optimizer1, epsilon=0.5)\n",
    "\n",
    "model2 = DQN(3, 128, 16)\n",
    "optimizer2 = optim.Adam(model2.parameters(), lr=LR)\n",
    "agent2 = DQN_satrategy(model2, optimizer2, epsilon=0.5)\n",
    "\n",
    "env = TicTacToe(n_rows=4, n_cols=4, n_win=4)\n",
    "steps, result_X, result_O = training(\n",
    "    env, \n",
    "    agent1, \n",
    "    agent2, \n",
    "    criterion,\n",
    "    episodes=5000, \n",
    "    batch_size=256,\n",
    ")"
   ]
  },
  {
   "cell_type": "code",
   "execution_count": null,
   "metadata": {},
   "outputs": [],
   "source": [
    "plt.figure(figsize=(12, 6))\n",
    "plt.plot(steps, result_X, label='X')\n",
    "plt.plot(steps, result_O, label='O')\n",
    "plt.xlabel(\"Games\")\n",
    "plt.ylabel(\"Win percentage\")\n",
    "plt.title(\"4x4 BOARD RESULTS\")\n",
    "plt.grid(True)\n",
    "plt.legend()\n",
    "# plt.ylim((0,1.0))\n",
    "plt.show()"
   ]
  },
  {
   "cell_type": "code",
   "execution_count": null,
   "metadata": {},
   "outputs": [],
   "source": []
  },
  {
   "cell_type": "markdown",
   "metadata": {},
   "source": [
    "## 4. Реализуйте Double DQN и/или Dueling DQN."
   ]
  },
  {
   "cell_type": "code",
   "execution_count": 9,
   "metadata": {},
   "outputs": [],
   "source": [
    "class Dueling_DQN(nn.Module):\n",
    "\n",
    "    def __init__(self, in_size, hidden_size, out_size):\n",
    "        super().__init__()\n",
    "        self.conv1 = nn.Conv2d(in_size, hidden_size, kernel_size=3, padding=1)\n",
    "        self.bn1 = nn.BatchNorm2d(hidden_size)\n",
    "        self.conv2 = nn.Conv2d(hidden_size, hidden_size, kernel_size=3, padding=1)\n",
    "        self.bn2 = nn.BatchNorm2d(hidden_size)\n",
    "\n",
    "        self.fc1_adv = nn.Linear(hidden_size*out_size, hidden_size)\n",
    "        self.fc1_val = nn.Linear(hidden_size*out_size, hidden_size)\n",
    "\n",
    "        self.fc2_adv = nn.Linear(hidden_size, out_size)\n",
    "        self.fc2_val = nn.Linear(hidden_size, 1)\n",
    "\n",
    "    # Called with either one element to determine next action, or a batch\n",
    "    # during optimization. Returns tensor([[left0exp,right0exp]...]).\n",
    "    def forward(self, x):\n",
    "\n",
    "        x = F.relu(self.bn1(self.conv1(x)))\n",
    "        x = F.relu(self.bn2(self.conv2(x)))\n",
    "\n",
    "        x = x.view(x.size(0), -1)\n",
    "\n",
    "        adv = F.relu(self.fc1_adv(x))\n",
    "        val = F.relu(self.fc1_val(x))\n",
    "\n",
    "        adv = self.fc2_adv(adv)\n",
    "        val = self.fc2_val(val).expand(x.size(0), 9)\n",
    "\n",
    "        x = val + adv - adv.mean(1).unsqueeze(1).expand(x.size(0), 9)\n",
    "        return x"
   ]
  },
  {
   "cell_type": "code",
   "execution_count": 18,
   "metadata": {},
   "outputs": [
    {
     "data": {
      "application/vnd.jupyter.widget-view+json": {
       "model_id": "359cdd064a894b2ba5e96c719b8cfd16",
       "version_major": 2,
       "version_minor": 0
      },
      "text/plain": [
       "HBox(children=(FloatProgress(value=0.0, max=1000.0), HTML(value='')))"
      ]
     },
     "metadata": {},
     "output_type": "display_data"
    },
    {
     "name": "stdout",
     "output_type": "stream",
     "text": [
      "\n"
     ]
    }
   ],
   "source": [
    "LR = 1e-6\n",
    "criterion = F.l1_loss\n",
    "\n",
    "model1 = Dueling_DQN(3, 128, 9)\n",
    "optimizer1 = optim.Adam(model1.parameters(), lr=LR)\n",
    "agent1 = DQN_satrategy(model1, optimizer1, epsilon=0.5)\n",
    "\n",
    "model2 = Dueling_DQN(3, 128, 9)\n",
    "optimizer2 = optim.Adam(model2.parameters(), lr=LR)\n",
    "agent2 = DQN_satrategy(model2, optimizer2, epsilon=0.5)\n",
    "\n",
    "env = TicTacToe(n_rows=3, n_cols=3, n_win=3)\n",
    "steps, result_X, result_O = training(\n",
    "    env, \n",
    "    agent1, \n",
    "    agent2, \n",
    "    criterion,\n",
    "    episodes=1000, \n",
    "    batch_size=256,\n",
    ")"
   ]
  },
  {
   "cell_type": "code",
   "execution_count": 19,
   "metadata": {},
   "outputs": [
    {
     "data": {
      "image/png": "[encoded data removed]",
      "text/plain": [
       "<Figure size 864x432 with 1 Axes>"
      ]
     },
     "metadata": {
      "needs_background": "light"
     },
     "output_type": "display_data"
    }
   ],
   "source": [
    "plt.figure(figsize=(12, 6))\n",
    "plt.plot(steps, result_X, label='X')\n",
    "plt.plot(steps, result_O, label='O')\n",
    "plt.xlabel(\"Games\")\n",
    "plt.ylabel(\"Win percentage\")\n",
    "plt.title(\"3x3 BOARD DUELING RESULTS\")\n",
    "plt.grid(True)\n",
    "plt.legend()\n",
    "# plt.ylim((0,1.0))\n",
    "plt.show()"
   ]
  },
  {
   "cell_type": "markdown",
   "metadata": {},
   "source": [
    "# Часть третья: расширим и углубим поиск"
   ]
  },
  {
   "cell_type": "markdown",
   "metadata": {},
   "source": [
    "Крестики-нолики -- это, конечно, далеко не го, и обычный альфа-бета поиск с отсечением здесь наверняка может работать идеально вплоть до довольно больших досок. Однако мы всё-таки для этого учебного задания будем реализовывать более практически релевантный метод MCTS -- заодно фактически получится и упражнение на многоруких бандитов."
   ]
  },
  {
   "cell_type": "markdown",
   "metadata": {},
   "source": [
    "## 5. Реализуйте rollouts со случайной стратегией и (опционально) rollouts с неслучайной, но простой стратегией (например, основанной на дополнении нескольких паттернов или на Q-функции, которая у вас получилась в первом пункте).\n"
   ]
  },
  {
   "cell_type": "code",
   "execution_count": null,
   "metadata": {},
   "outputs": [],
   "source": []
  },
  {
   "cell_type": "code",
   "execution_count": null,
   "metadata": {},
   "outputs": [],
   "source": []
  }
 ],
 "metadata": {
  "kernelspec": {
   "display_name": "Python 3",
   "language": "python",
   "name": "python3"
  },
  "language_info": {
   "codemirror_mode": {
    "name": "ipython",
    "version": 3
   },
   "file_extension": ".py",
   "mimetype": "text/x-python",
   "name": "python",
   "nbconvert_exporter": "python",
   "pygments_lexer": "ipython3",
   "version": "3.7.8"
  }
 },
 "nbformat": 4,
 "nbformat_minor": 4
}
