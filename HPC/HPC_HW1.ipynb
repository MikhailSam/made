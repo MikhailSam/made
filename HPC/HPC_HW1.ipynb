{
 "cells": [
  {
   "cell_type": "code",
   "execution_count": 1,
   "metadata": {},
   "outputs": [],
   "source": [
    "import pandas as pd\n",
    "import numpy as np\n",
    "\n",
    "import torch\n",
    "import torch.nn as nn\n",
    "from torch.optim import Adam\n",
    "from torch.functional import F\n",
    "\n",
    "from matplotlib import pyplot as plt\n",
    "from tabulate import tabulate\n",
    "from tqdm import tqdm\n",
    "from sklearn.preprocessing import StandardScaler"
   ]
  },
  {
   "cell_type": "code",
   "execution_count": 2,
   "metadata": {},
   "outputs": [
    {
     "data": {
      "text/plain": [
       "'cpu'"
      ]
     },
     "execution_count": 2,
     "metadata": {},
     "output_type": "execute_result"
    }
   ],
   "source": [
    "if torch.cuda.is_available():\n",
    "    DEVICE = 'cuda'\n",
    "else:\n",
    "    DEVICE = 'cpu'\n",
    "DEVICE"
   ]
  },
  {
   "cell_type": "markdown",
   "metadata": {},
   "source": [
    "## Loading data"
   ]
  },
  {
   "cell_type": "code",
   "execution_count": 37,
   "metadata": {},
   "outputs": [
    {
     "data": {
      "text/html": [
       "<div>\n",
       "<style scoped>\n",
       "    .dataframe tbody tr th:only-of-type {\n",
       "        vertical-align: middle;\n",
       "    }\n",
       "\n",
       "    .dataframe tbody tr th {\n",
       "        vertical-align: top;\n",
       "    }\n",
       "\n",
       "    .dataframe thead th {\n",
       "        text-align: right;\n",
       "    }\n",
       "</style>\n",
       "<table border=\"1\" class=\"dataframe\">\n",
       "  <thead>\n",
       "    <tr style=\"text-align: right;\">\n",
       "      <th></th>\n",
       "      <th>Unnamed: 0</th>\n",
       "      <th>data</th>\n",
       "      <th>#1 GFlop/s</th>\n",
       "      <th>#500 GFlop/s</th>\n",
       "      <th>Sum GFlop/s</th>\n",
       "    </tr>\n",
       "  </thead>\n",
       "  <tbody>\n",
       "    <tr>\n",
       "      <th>50</th>\n",
       "      <td>50</td>\n",
       "      <td>06/2018</td>\n",
       "      <td>122300000.0</td>\n",
       "      <td>715551.0</td>\n",
       "      <td>1.210915e+09</td>\n",
       "    </tr>\n",
       "    <tr>\n",
       "      <th>51</th>\n",
       "      <td>51</td>\n",
       "      <td>11/2018</td>\n",
       "      <td>143500000.0</td>\n",
       "      <td>874800.0</td>\n",
       "      <td>1.414956e+09</td>\n",
       "    </tr>\n",
       "    <tr>\n",
       "      <th>52</th>\n",
       "      <td>52</td>\n",
       "      <td>06/2019</td>\n",
       "      <td>148600000.0</td>\n",
       "      <td>1021000.0</td>\n",
       "      <td>1.559575e+09</td>\n",
       "    </tr>\n",
       "    <tr>\n",
       "      <th>53</th>\n",
       "      <td>53</td>\n",
       "      <td>11/2019</td>\n",
       "      <td>148600000.0</td>\n",
       "      <td>1142000.0</td>\n",
       "      <td>1.646887e+09</td>\n",
       "    </tr>\n",
       "    <tr>\n",
       "      <th>54</th>\n",
       "      <td>54</td>\n",
       "      <td>06/2020</td>\n",
       "      <td>415530000.0</td>\n",
       "      <td>1228000.0</td>\n",
       "      <td>2.206134e+09</td>\n",
       "    </tr>\n",
       "  </tbody>\n",
       "</table>\n",
       "</div>"
      ],
      "text/plain": [
       "    Unnamed: 0     data   #1 GFlop/s  #500 GFlop/s   Sum GFlop/s\n",
       "50          50  06/2018  122300000.0      715551.0  1.210915e+09\n",
       "51          51  11/2018  143500000.0      874800.0  1.414956e+09\n",
       "52          52  06/2019  148600000.0     1021000.0  1.559575e+09\n",
       "53          53  11/2019  148600000.0     1142000.0  1.646887e+09\n",
       "54          54  06/2020  415530000.0     1228000.0  2.206134e+09"
      ]
     },
     "execution_count": 37,
     "metadata": {},
     "output_type": "execute_result"
    }
   ],
   "source": [
    "data = pd.read_csv('data.csv')\n",
    "data.tail()"
   ]
  },
  {
   "cell_type": "code",
   "execution_count": 46,
   "metadata": {},
   "outputs": [],
   "source": [
    "# create x axis in months from 1993\n",
    "x = data['data'].to_numpy()\n",
    "x = [el.split('/') for el in x]\n",
    "x = [(int(el[1]) - 1993)*12 + int(el[0]) for el in x]"
   ]
  },
  {
   "cell_type": "code",
   "execution_count": 47,
   "metadata": {},
   "outputs": [
    {
     "data": {
      "image/png": "[encoded data removed]",
      "text/plain": [
       "<Figure size 1152x648 with 1 Axes>"
      ]
     },
     "metadata": {
      "needs_background": "light"
     },
     "output_type": "display_data"
    }
   ],
   "source": [
    "plt.figure(figsize=(16,9))\n",
    "plt.scatter(x, data['#1 GFlop/s'], label='#1')\n",
    "plt.scatter(x, data['#500 GFlop/s'], label='#500')\n",
    "plt.scatter(x, data['Sum GFlop/s'], label='sum')\n",
    "\n",
    "plt.xlabel('months from 1993')\n",
    "plt.xlabel('GFlop/s')\n",
    "plt.grid()\n",
    "plt.title('Performance')\n",
    "plt.legend()\n",
    "plt.yscale('log')"
   ]
  },
  {
   "cell_type": "markdown",
   "metadata": {},
   "source": [
    "## Create simple PyTorch model"
   ]
  },
  {
   "cell_type": "code",
   "execution_count": 162,
   "metadata": {},
   "outputs": [],
   "source": [
    "class SimpleModel(nn.Module):\n",
    "    \n",
    "    def __init__(self, n_input, n_hidden):\n",
    "        super(SimpleModel, self).__init__()\n",
    "        self.lin1 = nn.Linear(n_input, n_hidden)\n",
    "#         self.lin2 = nn.Linear(n_hidden, n_hidden)\n",
    "        self.lin2 = nn.Linear(n_hidden,1)\n",
    "        \n",
    "    def forward(self, x):\n",
    "        x = self.lin1(x)\n",
    "        x = F.relu(x)\n",
    "#         x = self.lin2(x)\n",
    "#         x = F.relu(x)\n",
    "\n",
    "        output = self.lin2(x)\n",
    "        return output\n",
    "\n",
    "def train(model, X, y, loss_func, optimizer, epochs=10, device='cpu'):\n",
    "    train_loss = []\n",
    "    for ep_num in tqdm(range(epochs)):\n",
    "        model.train()\n",
    "        optimizer.zero_grad()\n",
    "        preds = model(X)\n",
    "        loss = loss_func(preds, y)\n",
    "        train_loss.append(loss.detach().cpu().numpy())\n",
    "        loss.backward()\n",
    "        optimizer.step()\n",
    "        \n",
    "        plt.plot(list(range(ep_num+1)), train_loss)\n",
    "    return train_loss\n",
    "        "
   ]
  },
  {
   "cell_type": "code",
   "execution_count": 163,
   "metadata": {},
   "outputs": [],
   "source": [
    "# Scale data\n",
    "scaler_x = StandardScaler()\n",
    "scaler_y = StandardScaler()\n",
    "scaler_y_500 = StandardScaler()\n",
    "\n",
    "# for top1\n",
    "X = np.array(x).reshape(-1,1)\n",
    "X = scaler_x.fit_transform(X)\n",
    "\n",
    "y = np.log(np.array(data['#1 GFlop/s'])).reshape(-1,1)\n",
    "y = scaler_y.fit_transform(y)\n",
    "\n",
    "# for top500\n",
    "y_500 = np.log(np.array(data['#500 GFlop/s'])).reshape(-1,1)\n",
    "y_500 = scaler_y_500.fit_transform(y_500)"
   ]
  },
  {
   "cell_type": "code",
   "execution_count": 164,
   "metadata": {
    "scrolled": true
   },
   "outputs": [
    {
     "name": "stderr",
     "output_type": "stream",
     "text": [
      "100%|██████████| 200/200 [00:00<00:00, 687.90it/s]\n",
      " 16%|█▌        | 32/200 [00:00<00:00, 314.43it/s]"
     ]
    },
    {
     "name": "stdout",
     "output_type": "stream",
     "text": [
      "Top1 loss 0.0046307384\n"
     ]
    },
    {
     "name": "stderr",
     "output_type": "stream",
     "text": [
      "100%|██████████| 200/200 [00:00<00:00, 423.13it/s]\n"
     ]
    },
    {
     "name": "stdout",
     "output_type": "stream",
     "text": [
      "Top1 loss 0.0007001912\n"
     ]
    },
    {
     "data": {
      "image/png": "[encoded data removed]",
      "text/plain": [
       "<Figure size 432x288 with 1 Axes>"
      ]
     },
     "metadata": {
      "needs_background": "light"
     },
     "output_type": "display_data"
    }
   ],
   "source": [
    "X = torch.tensor(X, dtype=torch.float).to(DEVICE)\n",
    "y = torch.tensor(y, dtype=torch.float).to(DEVICE)\n",
    "y_500 = torch.tensor(y_500, dtype=torch.float).to(DEVICE)\n",
    "\n",
    "loss_func = nn.MSELoss()\n",
    "\n",
    "model = SimpleModel(1, 10).to(DEVICE)\n",
    "optim = torch.optim.Adam(model.parameters(), lr=0.05)\n",
    "\n",
    "losses = train(model, X, y, loss_func, optim, epochs=200)\n",
    "print('Top1 loss', losses[-1])\n",
    "\n",
    "model_500 = SimpleModel(1, 10).to(DEVICE)\n",
    "optim_500 = torch.optim.Adam(model_500.parameters(), lr=0.05)\n",
    "\n",
    "losses_500 = train(model_500, X, y_500, loss_func, optim_500, epochs=200)\n",
    "print('Top1 loss', losses_500[-1])"
   ]
  },
  {
   "cell_type": "markdown",
   "metadata": {},
   "source": [
    "## Predictions for Top #1 and Top #500"
   ]
  },
  {
   "cell_type": "code",
   "execution_count": 165,
   "metadata": {},
   "outputs": [],
   "source": [
    "# Predictions for 2025\n",
    "x_new = [el*6 for el in list(range(1,11))]\n",
    "x_new = np.array([el+330 for el in x_new]).reshape(-1,1)\n",
    "\n",
    "x_new_scaled = scaler_x.transform(x_new)\n",
    "x_new_scaled = torch.tensor(x_new_scaled, dtype=torch.float)\n",
    "\n",
    "model.eval()\n",
    "preds_new = model(x_new_scaled).detach().cpu().numpy()\n",
    "result_new = scaler_y.inverse_transform(preds_new)\n",
    "result_new = np.exp(result_new)\n",
    "\n",
    "model_500.eval()\n",
    "preds_new_500 = model_500(x_new_scaled).detach().cpu().numpy()\n",
    "result_new_500 = scaler_y_500.inverse_transform(preds_new_500)\n",
    "result_new_500 = np.exp(result_new_500)"
   ]
  },
  {
   "cell_type": "code",
   "execution_count": 166,
   "metadata": {},
   "outputs": [
    {
     "data": {
      "image/png": "[encoded data removed]",
      "text/plain": [
       "<Figure size 1152x648 with 1 Axes>"
      ]
     },
     "metadata": {
      "needs_background": "light"
     },
     "output_type": "display_data"
    }
   ],
   "source": [
    "preds = model(X).detach().cpu().numpy()\n",
    "result = scaler_y.inverse_transform(preds)\n",
    "result = np.exp(result)\n",
    "\n",
    "preds_500 = model_500(X).detach().cpu().numpy()\n",
    "result_500 = scaler_y_500.inverse_transform(preds_500)\n",
    "result_500 = np.exp(result_500)\n",
    "\n",
    "plt.figure(figsize=(16,9))\n",
    "plt.scatter(x, data['#1 GFlop/s'], label='true #1')\n",
    "plt.scatter(x, data['#500 GFlop/s'], label='true #500')\n",
    "\n",
    "plt.scatter(x, result, label='preds')\n",
    "plt.scatter(x, result_500, label='preds')\n",
    "\n",
    "plt.scatter(x_new, result_new, label='RESULT #1', marker='x')\n",
    "plt.scatter(x_new, result_new_500, label='RESULT #500', marker='x')\n",
    "\n",
    "plt.yscale('log')\n",
    "plt.xlabel('months from 1993')\n",
    "plt.xlabel('GFlop/s')\n",
    "plt.grid()\n",
    "plt.title('Model result')\n",
    "plt.legend()\n",
    "plt.show()"
   ]
  },
  {
   "cell_type": "markdown",
   "metadata": {},
   "source": [
    "# Rescale results"
   ]
  },
  {
   "cell_type": "code",
   "execution_count": 167,
   "metadata": {
    "scrolled": true
   },
   "outputs": [
    {
     "name": "stdout",
     "output_type": "stream",
     "text": [
      "|   year |   Top #1,GFlop/s |   Top #500, GFlop/s |\n",
      "|--------|------------------|---------------------|\n",
      "|   2021 |      3.43436e+08 |         1.61156e+06 |\n",
      "| 2021.5 |      4.14862e+08 |          1.9424e+06 |\n",
      "|   2022 |      5.01143e+08 |         2.34116e+06 |\n",
      "| 2022.5 |      6.05368e+08 |         2.82179e+06 |\n",
      "|   2023 |       7.3127e+08 |         3.40109e+06 |\n",
      "| 2023.5 |      8.83356e+08 |         4.09932e+06 |\n",
      "|   2024 |      1.06707e+09 |         4.94088e+06 |\n",
      "| 2024.5 |        1.289e+09 |         5.95522e+06 |\n",
      "|   2025 |      1.55708e+09 |         7.17779e+06 |\n",
      "| 2025.5 |      1.88091e+09 |         8.65136e+06 |\n"
     ]
    }
   ],
   "source": [
    "x_months = 1993 + x_new / 12\n",
    "\n",
    "table = []\n",
    "for i in range(len(x_months)):\n",
    "    l = [x_months[i], result_new[i], result_new_500[i]]\n",
    "    table.append(l)\n",
    "\n",
    "headers = ['year', 'Top #1,GFlop/s', 'Top #500, GFlop/s']\n",
    "print(tabulate(table, headers, tablefmt=\"github\", numalign=\"right\"))\n"
   ]
  },
  {
   "cell_type": "markdown",
   "metadata": {},
   "source": [
    "So my guess is that by 2024 (pessimistic - by 2025) the top1 supercomputer will reach 1EFlop/s.\n",
    "At the same time, the top500 will still not reach 10 PFlop/s"
   ]
  },
  {
   "cell_type": "code",
   "execution_count": null,
   "metadata": {},
   "outputs": [],
   "source": []
  }
 ],
 "metadata": {
  "kernelspec": {
   "display_name": "Python 3.7.8 64-bit ('t13': conda)",
   "language": "python",
   "name": "python37864bitt13conda5428fe949fc548459a57c595d25de0b6"
  },
  "language_info": {
   "codemirror_mode": {
    "name": "ipython",
    "version": 3
   },
   "file_extension": ".py",
   "mimetype": "text/x-python",
   "name": "python",
   "nbconvert_exporter": "python",
   "pygments_lexer": "ipython3",
   "version": "3.7.8"
  }
 },
 "nbformat": 4,
 "nbformat_minor": 4
}
